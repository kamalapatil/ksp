{
 "cells": [
  {
   "cell_type": "code",
   "execution_count": 2,
   "metadata": {},
   "outputs": [
    {
     "name": "stdout",
     "output_type": "stream",
     "text": [
      "enter m 5\n",
      "enter n 0\n",
      "sorry cannot divide by zero\n",
      "bye bye\n"
     ]
    }
   ],
   "source": [
    "#Task 1.1\n",
    "def dividebyzero(m,n):\n",
    "        res=int(m/n)\n",
    "        return res\n",
    "m=int(input(\"enter m \"))\n",
    "n=int(input(\"enter n \"))\n",
    "try:\n",
    "    res=dividebyzero(m,n)\n",
    "    print(\"result of dividing {0:d} by {1:d} is = {2:d}\".format(m,n ,res))\n",
    "except ZeroDivisionError:\n",
    "    print(\"sorry cannot divide by zero\")\n",
    "finally:\n",
    "    print(\"bye bye\")\n"
   ]
  },
  {
   "cell_type": "code",
   "execution_count": 4,
   "metadata": {},
   "outputs": [
    {
     "name": "stdout",
     "output_type": "stream",
     "text": [
      "Americans  play Baseball\n",
      "Americans  play Cricket\n",
      "Americans  watch Baseball\n",
      "Americans  watch Cricket\n",
      "Indians play Baseball\n",
      "Indians play Cricket\n",
      "Indians watch Baseball\n",
      "Indians watch Cricket\n"
     ]
    }
   ],
   "source": [
    "#Task 1.2\n",
    "def generateList(s,v,o):\n",
    "    sen=[]\n",
    "    for i in s:\n",
    "        for j in v:\n",
    "            for k in o:\n",
    "                newstr= \"{0} {1} {2}\".format(i,j,k)\n",
    "                sen.append(newstr)\n",
    "    return sen\n",
    "\n",
    "def printlist(l):\n",
    "    for i in l:\n",
    "        print(i)\n",
    "subjects=[\"Americans \",\"Indians\"]\n",
    "verbs=[\"play\",\"watch\"]\n",
    "objects=[\"Baseball\",\"Cricket\"] \n",
    "li=[]\n",
    "li=generateList(subjects,verbs,objects)\n",
    "printlist(li)\n"
   ]
  },
  {
   "cell_type": "code",
   "execution_count": 5,
   "metadata": {},
   "outputs": [
    {
     "name": "stdout",
     "output_type": "stream",
     "text": [
      "enter elements : 1 2 3 4\n",
      "Max power :4\n",
      "enter bool value :True\n",
      "1 1 1 1 \n",
      "1 2 4 8 \n",
      "1 3 9 27 \n",
      "1 4 16 64 \n"
     ]
    }
   ],
   "source": [
    "#Task2.1\n",
    "import numpy as np\n",
    "l=list(map(lambda x:int(x),input(\"enter elements : \").split(' ')))\n",
    "v1 = np. array(l)\n",
    "n=int(input(\"Max power :\"))\n",
    "increaseflag=(input(\"enter bool value :\"))\n",
    "if increaseflag==\"False\":\n",
    "    increase=bool(False)\n",
    "else:\n",
    "    increase=bool(True)\n",
    "m=len(v1) \n",
    "mat = [ [ 0 for i in range(n) ] for j in range(m) ]\n",
    "for i in range(m):\n",
    "    for j in range(n):\n",
    "        if increase:\n",
    "            mat[i][j]=v1[i]**j\n",
    "        else:\n",
    "            mat[i][j]=v1[i]**(n-j-1)\n",
    "for i in range(m):\n",
    "    for j in range(n):\n",
    "        print(mat[i][j],end=' ')       \n",
    "    print()\n"
   ]
  },
  {
   "cell_type": "code",
   "execution_count": 6,
   "metadata": {},
   "outputs": [
    {
     "name": "stdout",
     "output_type": "stream",
     "text": [
      "enter elements : 1 2 3 4\n",
      "Max power :4\n",
      "enter bool value :False\n",
      "1 1 1 1 \n",
      "8 4 2 1 \n",
      "27 9 3 1 \n",
      "64 16 4 1 \n"
     ]
    }
   ],
   "source": [
    "#Task2.1\n",
    "import numpy as np\n",
    "l=list(map(lambda x:int(x),input(\"enter elements : \").split(' ')))\n",
    "v1 = np. array(l)\n",
    "n=int(input(\"Max power :\"))\n",
    "increaseflag=(input(\"enter bool value :\"))\n",
    "if increaseflag==\"False\":\n",
    "    increase=bool(False)\n",
    "else:\n",
    "    increase=bool(True)\n",
    "m=len(v1) \n",
    "mat = [ [ 0 for i in range(n) ] for j in range(m) ]\n",
    "for i in range(m):\n",
    "    for j in range(n):\n",
    "        if increase:\n",
    "            mat[i][j]=v1[i]**j\n",
    "        else:\n",
    "            mat[i][j]=v1[i]**(n-j-1)\n",
    "for i in range(m):\n",
    "    for j in range(n):\n",
    "        print(mat[i][j],end=' ')       \n",
    "    print()\n"
   ]
  },
  {
   "cell_type": "code",
   "execution_count": null,
   "metadata": {},
   "outputs": [],
   "source": []
  }
 ],
 "metadata": {
  "kernelspec": {
   "display_name": "Python 3",
   "language": "python",
   "name": "python3"
  },
  "language_info": {
   "codemirror_mode": {
    "name": "ipython",
    "version": 3
   },
   "file_extension": ".py",
   "mimetype": "text/x-python",
   "name": "python",
   "nbconvert_exporter": "python",
   "pygments_lexer": "ipython3",
   "version": "3.7.6"
  }
 },
 "nbformat": 4,
 "nbformat_minor": 4
}
