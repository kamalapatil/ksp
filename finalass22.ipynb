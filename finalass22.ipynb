{
 "cells": [
  {
   "cell_type": "code",
   "execution_count": 1,
   "metadata": {},
   "outputs": [
    {
     "name": "stdout",
     "output_type": "stream",
     "text": [
      "Enter the list numbers separated by space: 1 2 3 4 5\n",
      "New List:  [1, 2, 3, 4, 5]\n",
      "120\n"
     ]
    }
   ],
   "source": [
    "#task 1.1\n",
    "#my_reduce multiplies list elements\n",
    "def do_mul(x1, x2): \n",
    "    return x1 * x2\n",
    "\n",
    "def my_reduce(func, seq):\n",
    "    first = seq[0]\n",
    "    for i in seq[1:]:\n",
    "        first = func(first, i)\n",
    "    return first\n",
    "l=list(int(num) for num in input(\"Enter the list numbers separated by space: \").split())\n",
    "print(\"New List: \",l)\n",
    "print(my_reduce(do_mul,l))"
   ]
  },
  {
   "cell_type": "code",
   "execution_count": 2,
   "metadata": {},
   "outputs": [
    {
     "name": "stdout",
     "output_type": "stream",
     "text": [
      "The filtered letters are:\n",
      "e e a i o u "
     ]
    }
   ],
   "source": [
    "#task 1.2\n",
    "#myfilter\n",
    "def myfilter(func,seq):\n",
    "    l=[]\n",
    "    for i in seq[0:]:\n",
    "        if (func(i)):\n",
    "             l.append(i)\n",
    "    return l             \n",
    "\n",
    "def fun(variable): \n",
    "    letters = ['a', 'e', 'i', 'o', 'u'] \n",
    "    if (variable in letters): \n",
    "        return True\n",
    "    else: \n",
    "        return False\n",
    "  \n",
    "  \n",
    "# sequence \n",
    "sequence = ['g', 'e', 'e', 'j', 'k', 's', 'p', 'r','a','i','o','u'] \n",
    "  \n",
    "# using filter function \n",
    "filtered = myfilter(fun, sequence) \n",
    "  \n",
    "print('The filtered letters are:') \n",
    "for s in filtered: \n",
    "    print(s,end=' ')\n",
    "\n"
   ]
  },
  {
   "cell_type": "code",
   "execution_count": 3,
   "metadata": {},
   "outputs": [
    {
     "name": "stdout",
     "output_type": "stream",
     "text": [
      "['A', 'C', 'A', 'D', 'G', 'I', 'L', 'D']\n"
     ]
    }
   ],
   "source": [
    "# task 1.3.1 ['A', 'C', 'A', 'D', 'G', 'I', ’L’, ‘ D’]\n",
    "l=[]\n",
    "l=[y for y in  \"ACADGILD\"]\n",
    "print(l)"
   ]
  },
  {
   "cell_type": "code",
   "execution_count": 6,
   "metadata": {},
   "outputs": [
    {
     "name": "stdout",
     "output_type": "stream",
     "text": [
      "['x', 'xx', 'xxx', 'xxxx', 'y', 'yy', 'yyy', 'yyyy', 'z', 'zz', 'zzz', 'zzzz']\n"
     ]
    }
   ],
   "source": [
    "#task 1.3.2['x', 'xx', 'xxx', 'xxxx', 'y', 'yy', 'yyy', 'yyyy', 'z', 'zz', 'zzz', 'zzzz']\n",
    "li=['x','y','z']\n",
    "l=[li[i]*j for i in range(0,3) for j in range(1,5)]\n",
    "print(l)\n"
   ]
  },
  {
   "cell_type": "code",
   "execution_count": 4,
   "metadata": {},
   "outputs": [
    {
     "name": "stdout",
     "output_type": "stream",
     "text": [
      "['x', 'y', 'z', 'xx', 'yy', 'zz', 'xx', 'yy', 'zz', 'xxxx', 'yyyy', 'zzzz']\n"
     ]
    }
   ],
   "source": [
    "# task 1.3.3['x', 'y', 'z', 'xx', 'yy', 'zz', 'xx', 'yy', 'zz', 'xxxx', 'yyyy', 'zzzz']\n",
    "li=['x','y','z']\n",
    "l=[li[i]*(k)*j for j in range(1,3) for k in range(1,3)  for i in range(0,3)]\n",
    "print(l)"
   ]
  },
  {
   "cell_type": "code",
   "execution_count": 5,
   "metadata": {},
   "outputs": [
    {
     "name": "stdout",
     "output_type": "stream",
     "text": [
      "[[2], [3], [4], [3], [4], [5], [4], [5], [6]]\n",
      "[[2, 3, 4, 5], [3, 4, 5, 6], [4, 5, 6, 7], [5, 6, 7, 8]]\n",
      "[(1, 1), (2, 1), (3, 1), (1, 2), (2, 2), (3, 2), (1, 3), (2, 3), (3, 3)]\n"
     ]
    }
   ],
   "source": [
    "# task 1.3.4 [[2], [3], [4], [3], [4], [5], [4], [5], [6]]\n",
    "# task 1.3.5[[2, 3, 4, 5], [3, 4, 5, 6], [4, 5, 6, 7], [5, 6, 7, 8]]\n",
    "# task 1.3.6[(1, 1), (2, 1), (3, 1), (1, 2), (2, 2), (3, 2), (1, 3), (2, 3), (3, 3)] \n",
    "l=[[i+j] for j in range(0,3) for i in range(2,5)]\n",
    "print(l)\n",
    "l=[[i+j for j in range(0,4) ]for i in range(2,6)]\n",
    "print(l)\n",
    "l=[(j,i) for i in range(1,4)  for j in range(1,4)]\n",
    "print(l)"
   ]
  },
  {
   "cell_type": "code",
   "execution_count": 7,
   "metadata": {},
   "outputs": [
    {
     "name": "stdout",
     "output_type": "stream",
     "text": [
      "Enter a multiple value: a ab abc abcd abcde\n",
      "longest word  abcde\n"
     ]
    }
   ],
   "source": [
    "#task 1.4 longest word\n",
    "def longestWord(li):\n",
    "    size=len(li[0])\n",
    "    index=0\n",
    "    k=len(li)\n",
    "    for i in range(1,k):\n",
    "        if len(li[i]) > size :\n",
    "            index=i\n",
    "            size=len(li[i])\n",
    "    return li[index] \n",
    "li = list(input(\"Enter a multiple value: \").split())\n",
    "print(\"longest word \",longestWord(li))\n"
   ]
  },
  {
   "cell_type": "code",
   "execution_count": 8,
   "metadata": {},
   "outputs": [
    {
     "name": "stdout",
     "output_type": "stream",
     "text": [
      "enter three sides:12.0 4.0 2.0\n",
      "area of triangle is =30.74\n",
      "30.74\n",
      "30.74\n"
     ]
    }
   ],
   "source": [
    "#task2.1\n",
    "import math\n",
    "class triangle:\n",
    "    def __init__(self,a,b,c):\n",
    "        self.__a,self.__b,self.__c=a,b,c\n",
    "    def area(self):\n",
    "        s=( self.__a + self.__b + self.__c ) / 2.0\n",
    "        ar=(s*(s-self.__a)*(s-self.__b)*(s-self.__c)) **0.5\n",
    "        return ar.imag\n",
    "a,b,c=map(float,input(\"enter three sides:\").split())\n",
    "tr1=triangle(a,b,c)\n",
    "print(\"area of triangle is =\",end=\"\")\n",
    "val=tr1.area()\n",
    "print(\"%.2f\"%val)\n",
    "print(\"{0:.2f}\".format(val))\n",
    "print(round(val,2))\n",
    "\n"
   ]
  },
  {
   "cell_type": "code",
   "execution_count": null,
   "metadata": {},
   "outputs": [],
   "source": []
  },
  {
   "cell_type": "code",
   "execution_count": 9,
   "metadata": {},
   "outputs": [
    {
     "name": "stdout",
     "output_type": "stream",
     "text": [
      "enter three sides:12.0 4.0 2.0\n",
      "triangle with sides 12.000000 4.000000 and 2.000000 and its area is=30.740852.\n"
     ]
    }
   ],
   "source": [
    "#task 2.2 version 1\n",
    "import math\n",
    "class Triangle:\n",
    "    def __init__(self,a,b,c):\n",
    "        self.a,self.b,self.c=a,b,c\n",
    "\n",
    "class Compute(Triangle):\n",
    "    def __init__(self,a,b,c):\n",
    "        super().__init__(a,b,c)\n",
    "    def area(self):\n",
    "        s=(self.a+self.b+self.c)/2.0\n",
    "        k=(s*(s-self.a)*(s-self.b)*(s-self.c))\n",
    "        if(k<0):\n",
    "            k=k*-1; \n",
    "        ar=math.sqrt(k)\n",
    "        return ar\n",
    "    def __str__(self):\n",
    "        return \"triangle with sides %f %f and %f and its area is=%f.\" \\\n",
    "                % (self.a, self.b, self.c,self.area())\n",
    "a,b,c=map(float,input(\"enter three sides:\").split())\n",
    "c1=Compute(a,b,c)\n",
    "are=c1.area();\n",
    "print(c1)\n"
   ]
  },
  {
   "cell_type": "code",
   "execution_count": 10,
   "metadata": {},
   "outputs": [
    {
     "name": "stdout",
     "output_type": "stream",
     "text": [
      "enter three sides:12.0 4.0 2.0\n",
      "triangle with sides 12.000000 4.000000 and 2.000000 and its area is=30.740852.\n"
     ]
    }
   ],
   "source": [
    "#task 2.2 version 2\n",
    "import math\n",
    "class Triangle:\n",
    "    def __init__(self):\n",
    "        pass\n",
    "    def set_sideb(self,b):\n",
    "        self.b =b\n",
    "        \n",
    "    def set_sidea(self, a):\n",
    "        self.a = a\n",
    "        \n",
    "    def set_sidec(self, c):\n",
    "        self.c = c\n",
    "        \n",
    "        \n",
    "\n",
    "class Compute(Triangle):\n",
    "    def __init__(self,a,b,c):\n",
    "        super().set_sidea(a)\n",
    "        super().set_sideb(b)\n",
    "        super().set_sidec(c)\n",
    "    def area(self):\n",
    "        s=(self.a+self.b+self.c)/2.0\n",
    "        k=(s*(s-self.a)*(s-self.b)*(s-self.c))\n",
    "        if(k<0):\n",
    "            k=k*-1; \n",
    "        ar=math.sqrt(k)\n",
    "        return ar\n",
    "    def __str__(self):\n",
    "        return \"triangle with sides %f %f and %f and its area is=%f.\" \\\n",
    "                % (self.a, self.b, self.c,self.area())\n",
    "a,b,c=map(float,input(\"enter three sides:\").split())\n",
    "c1=Compute(a,b,c)\n",
    "are=c1.area();\n",
    "print(c1)\n"
   ]
  },
  {
   "cell_type": "code",
   "execution_count": 11,
   "metadata": {},
   "outputs": [
    {
     "name": "stdout",
     "output_type": "stream",
     "text": [
      "input words:a,ab,abc,abcd,abcde\n",
      "length filter:2\n",
      "abc abcd abcde "
     ]
    }
   ],
   "source": [
    "#task2.3\n",
    "def check_length(str,n):\n",
    "    if len(str)>n:\n",
    "        return 1\n",
    "    else:\n",
    "        return 0\n",
    "    \n",
    "\n",
    "\n",
    "def filter_long_words(orgl,n):\n",
    "    newl=[]\n",
    "    for st in orgl:\n",
    "        if check_length(st,n):\n",
    "            newl.append(st)\n",
    "    return newl\n",
    "\n",
    "\n",
    "li=list(input(\"input words:\").split(','))\n",
    "n=int(input(\"length filter:\")) \n",
    "lo=filter_long_words(li,n)\n",
    "for st in lo:\n",
    "    print(st,end=' ')\n",
    "\n"
   ]
  },
  {
   "cell_type": "code",
   "execution_count": 12,
   "metadata": {},
   "outputs": [
    {
     "name": "stdout",
     "output_type": "stream",
     "text": [
      "input words:a,ab,abc,abcd,abcde\n",
      "1 2 3 4 5 "
     ]
    }
   ],
   "source": [
    "#task2.4\n",
    "def check_length(str):\n",
    "     return len(str)\n",
    "    \n",
    "\n",
    "\n",
    "def set_length_of_words(orgl):\n",
    "    newl=[]\n",
    "    for st in orgl:\n",
    "        \n",
    "            newl.append(check_length(st))\n",
    "    return newl\n",
    "\n",
    "\n",
    "li=list(input(\"input words:\").split(','))\n",
    " \n",
    "lo=set_length_of_words(li)\n",
    "for st in lo:\n",
    "    print(st,end=' ')\n"
   ]
  },
  {
   "cell_type": "code",
   "execution_count": 13,
   "metadata": {},
   "outputs": [
    {
     "name": "stdout",
     "output_type": "stream",
     "text": [
      "input words:a,b,c,d,e,f,g,h,i\n",
      "a  is vowel\n",
      "b is not vowel\n",
      "c is not vowel\n",
      "d is not vowel\n",
      "e  is vowel\n",
      "f is not vowel\n",
      "g is not vowel\n",
      "h is not vowel\n",
      "i  is vowel\n"
     ]
    }
   ],
   "source": [
    "#task 2.5\n",
    "def is_vowel(str):\n",
    "    if len(str)==1 :\n",
    "        if str.lower() in['a','e','i','o','u']:\n",
    "            return True\n",
    "        else:\n",
    "            return False\n",
    "li=list(input(\"input words:\").split(','))\n",
    "for st in li:\n",
    "    if is_vowel(st):\n",
    "        print(st,\" is vowel\" )\n",
    "    else:\n",
    "        print(st,\"is not vowel\")\n",
    "        \n"
   ]
  },
  {
   "cell_type": "code",
   "execution_count": null,
   "metadata": {},
   "outputs": [],
   "source": []
  }
 ],
 "metadata": {
  "kernelspec": {
   "display_name": "Python 3",
   "language": "python",
   "name": "python3"
  },
  "language_info": {
   "codemirror_mode": {
    "name": "ipython",
    "version": 3
   },
   "file_extension": ".py",
   "mimetype": "text/x-python",
   "name": "python",
   "nbconvert_exporter": "python",
   "pygments_lexer": "ipython3",
   "version": "3.7.6"
  }
 },
 "nbformat": 4,
 "nbformat_minor": 4
}
